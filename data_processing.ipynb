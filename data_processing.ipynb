{
 "cells": [
  {
   "cell_type": "code",
   "execution_count": 1,
   "metadata": {},
   "outputs": [],
   "source": [
    "import numpy as np\n",
    "import pandas as pd\n",
    "import os\n",
    "import re\n",
    "from sklearn.preprocessing import LabelEncoder"
   ]
  },
  {
   "cell_type": "code",
   "execution_count": 2,
   "metadata": {},
   "outputs": [
    {
     "data": {
      "text/plain": [
       "LabelEncoder()"
      ]
     },
     "execution_count": 2,
     "metadata": {},
     "output_type": "execute_result"
    }
   ],
   "source": [
    "# Constants \n",
    "extent_of_agree_disagree = ['Strongly disagree', 'Disagree', 'Somewhat disagree', 'Neither agree nor disagree', 'Somewhat agree', 'Agree', 'Strongly agree']\n",
    "well_not_well = ['Not well at all', 'Slightly well', 'Moderately well', 'Very well', 'Extremely well']\n",
    "extent_of_tired_not_tired = ['Extremely tired', 'Very tired', 'Moderately tired', 'Slightly tired', 'Not tired at all']\n",
    "extent_of_stress_not_stress = ['Not stressed at all', 'A little stressed', 'Somewhat stressed', 'Stressed', 'Very stressed', 'Extremely stressed']\n",
    "midterms = [\"No.\", \"Yes - 1 midterm\", \"Yes - 2 midterms\", \"Yes - 3 or more midterms\"]\n",
    "activities_before_sleep = [\"Read (on an electronic device)\", \"Alcohol\", \"A large meal\", \"Tea / Coffee (with caffeine)\", \n",
    "    \"Played video games\", \"Skyped / called a friend or family member back home\", \"Studied\",\"I exercized\", \"Watched TV\", \"Spent time on my phone.\", \"I had/did none of these in the 2 hours before I went to sleep.\"]\n",
    "agree_or_not_agree_qs = ['Today I felt emotionally drained.', 'Today I felt stressed.', 'I found it difficult to concentrate on my work today.', 'I felt competent today.', 'I felt happy today.', 'I enjoyed my work today.']\n",
    "\n",
    "# Encoding\n",
    "extent_of_agree_disagree_encoder = LabelEncoder()\n",
    "extent_of_agree_disagree_encoder.fit(extent_of_agree_disagree)\n",
    "well_not_well_encoder = LabelEncoder()\n",
    "well_not_well_encoder.fit(well_not_well)\n",
    "extent_of_tired_not_tired_encoder = LabelEncoder()\n",
    "extent_of_tired_not_tired_encoder.fit(extent_of_tired_not_tired)\n",
    "extent_of_stress_not_stress_encoder = LabelEncoder()\n",
    "extent_of_stress_not_stress_encoder.fit(extent_of_stress_not_stress)\n",
    "midterms_encoder = LabelEncoder()\n",
    "midterms_encoder.fit(midterms)"
   ]
  },
  {
   "cell_type": "code",
   "execution_count": 3,
   "metadata": {},
   "outputs": [
    {
     "name": "stdout",
     "output_type": "stream",
     "text": [
      "Reading in file: 10-19_10:35.txt\n",
      "Reading in file: 10-20_12:44.txt\n",
      "Reading in file: 10-17_17:08.txt\n",
      "Reading in file: 10-27_10:32.txt\n",
      "Reading in file: 10-23_11:32.txt\n",
      "Reading in file: 10-22_17:19.txt\n",
      "Reading in file: 10-19_02:24.txt\n",
      "Reading in file: 10-26_10:27.txt\n",
      "Reading in file: 10-25_10:28.txt\n",
      "Reading in file: 10-24_11:00.txt\n",
      "Reading in file: 10-21_12:10.txt\n"
     ]
    }
   ],
   "source": [
    "def split_on_empty_lines(s):\n",
    "\n",
    "    # greedily match 2 or more new-lines\n",
    "    blank_line_regex = r\"(?:\\r?\\n){2,}\"\n",
    "\n",
    "    return re.split(blank_line_regex, s.strip())\n",
    "\n",
    "# Get file names ended with txt in ./data\n",
    "files = [f for f in os.listdir('./Assignment_2/data_banghua/') if f.endswith('.txt')]\n",
    "# Remove 10-17_17:08.txt from the list\n",
    "# files.remove('10-17_17:08.txt')\n",
    "# files.remove('10-17_12:59.txt')\n",
    "# Read in data\n",
    "data = []\n",
    "for file in files:\n",
    "    print(\"Reading in file: \" + file)\n",
    "    with open('./Assignment_2/data_banghua/' + file) as f:\n",
    "        file_data = split_on_empty_lines(f.read())\n",
    "        data.append(file_data)"
   ]
  },
  {
   "cell_type": "code",
   "execution_count": 4,
   "metadata": {},
   "outputs": [],
   "source": [
    "del_qs = ['Response Summary: ', 'Timing', 'Which section are you in?', 'Have you entered data for this survey before?',\n",
    "    'How many hours of sleep do you need to feel well-rested?']\n",
    "df = pd.DataFrame()\n",
    "\n",
    "for file in data:\n",
    "    temp = {}\n",
    "    for i in range(len(file)):\n",
    "        q_a = file[i].split('\\n   ')\n",
    "        if q_a[0] not in del_qs:\n",
    "            if q_a[0] == 'How many hours sleep did you get last night?':\n",
    "                temp['How many hours sleep did you get last night?'] = float(q_a[1].split('   ')[1])\n",
    "            elif q_a[0] == 'How well did you sleep last night?':\n",
    "                temp['How well did you sleep last night?'] = well_not_well_encoder.transform([q_a[1]])[0]\n",
    "            elif q_a[0] == 'Did you have or do any of the following 2 hours before you went to sleep \\nlast night? Select all t...':\n",
    "                for activity in activities_before_sleep:\n",
    "                    temp[activity] = 1 if activity in q_a[1] else 0\n",
    "            elif q_a[0] == 'Before going to sleep last night, for how many hours did you stop working? Please fill in a number:':\n",
    "                temp['Before going to sleep last night, for how many hours did you stop working? \\nPlease fill in a number:'] = float(q_a[1])\n",
    "            elif q_a[0] == 'How tired did you feel today?':\n",
    "                temp['How tired did you feel today?'] = extent_of_tired_not_tired_encoder.transform([q_a[1]])[0]\n",
    "            elif q_a[0] == 'Did you have a midterm today?':\n",
    "                temp['Did you have a midterm today?'] = midterms_encoder.transform([q_a[1]])[0]\n",
    "            elif q_a[0] == 'How long did it take you to complete the task (in minutes and seconds, \\ne.g., 1:32 = 1 minute and...':\n",
    "                try:\n",
    "                    temp['How long did it take you to complete the task (seconds)'] = float(q_a[1].split(':')[0])*60+float(q_a[1].split(':')[1])\n",
    "                except:\n",
    "                    temp['How long did it take you to complete the task (seconds)'] = float(q_a[1].split(' ')[0])*60+float(q_a[1].split(' ')[3])\n",
    "            elif q_a[0] == 'How many card turns did it take you to complete the task?':\n",
    "                temp['How many card turns did it take you to complete the task?'] = float(q_a[1])\n",
    "            elif q_a[0] == 'How stressed did you feel today?':\n",
    "                temp['How stressed did you feel today?'] = extent_of_stress_not_stress_encoder.transform([q_a[1]])[0]\n",
    "            elif q_a[0] == 'How well did you feel you were able to cope with your stress today?':\n",
    "                temp['How well did you feel you were able to cope with your stress today?'] = well_not_well_encoder.transform([q_a[1]])[0]\n",
    "            elif q_a[0] == 'Please indicate the extent to which you agree / disagree with the \\nfollowing statements':\n",
    "                for i in range(1, len(q_a), 2):\n",
    "                    temp[q_a[i]] = extent_of_agree_disagree_encoder.transform([q_a[i+1].strip()])[0]\n",
    "            else:\n",
    "                temp[q_a[0]] = q_a[1]\n",
    "    # Convert temp, which is a dict, to a dataframe\n",
    "    temp_df = pd.DataFrame(temp, index=[0])\n",
    "    # Concat datasets together\n",
    "    df = pd.concat([df, temp_df], ignore_index=True)"
   ]
  },
  {
   "cell_type": "code",
   "execution_count": 5,
   "metadata": {},
   "outputs": [
    {
     "data": {
      "text/plain": [
       "(11, 29)"
      ]
     },
     "execution_count": 5,
     "metadata": {},
     "output_type": "execute_result"
    }
   ],
   "source": [
    "df.shape"
   ]
  },
  {
   "cell_type": "code",
   "execution_count": 6,
   "metadata": {},
   "outputs": [],
   "source": [
    "df.to_csv('data_banghua.csv', index=False)"
   ]
  }
 ],
 "metadata": {
  "kernelspec": {
   "display_name": "Python 3.9.12 ('base')",
   "language": "python",
   "name": "python3"
  },
  "language_info": {
   "codemirror_mode": {
    "name": "ipython",
    "version": 3
   },
   "file_extension": ".py",
   "mimetype": "text/x-python",
   "name": "python",
   "nbconvert_exporter": "python",
   "pygments_lexer": "ipython3",
   "version": "3.9.12"
  },
  "orig_nbformat": 4,
  "vscode": {
   "interpreter": {
    "hash": "0aaeaca77e89efdee26218428d2dd31f57a40a6b69cea3d9bcbfda91b95b4233"
   }
  }
 },
 "nbformat": 4,
 "nbformat_minor": 2
}
